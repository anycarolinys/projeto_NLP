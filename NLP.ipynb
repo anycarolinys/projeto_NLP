{
 "cells": [
  {
   "cell_type": "markdown",
   "metadata": {},
   "source": [
    "### **Tratamento da base de dados**"
   ]
  },
  {
   "cell_type": "code",
   "execution_count": null,
   "metadata": {},
   "outputs": [],
   "source": [
    "# Importando bibliotecas\n",
    "import pandas as pd\n",
    "import ast"
   ]
  },
  {
   "cell_type": "code",
   "execution_count": null,
   "metadata": {},
   "outputs": [],
   "source": [
    "file_path = './dataset/LetterboxdTop250-5000reviews.csv'\n",
    "reviews_250_df = pd.read_csv(file_path)"
   ]
  },
  {
   "cell_type": "code",
   "execution_count": null,
   "metadata": {},
   "outputs": [],
   "source": [
    "reviews_250_df.head(5)"
   ]
  },
  {
   "cell_type": "code",
   "execution_count": null,
   "metadata": {},
   "outputs": [],
   "source": [
    "reviews_250_df.drop(['SYNOPSYS'], axis=1, inplace=True)"
   ]
  },
  {
   "cell_type": "code",
   "execution_count": null,
   "metadata": {},
   "outputs": [],
   "source": [
    "reviews_250_df.head(5)"
   ]
  },
  {
   "cell_type": "code",
   "execution_count": null,
   "metadata": {},
   "outputs": [],
   "source": [
    "reviews_250_df.drop(reviews_250_df.columns[reviews_250_df.columns.str.contains('unnamed', case=False)], axis=1, inplace=True)"
   ]
  },
  {
   "cell_type": "code",
   "execution_count": null,
   "metadata": {},
   "outputs": [],
   "source": [
    "reviews_250_df.head(5)"
   ]
  },
  {
   "cell_type": "code",
   "execution_count": null,
   "metadata": {},
   "outputs": [],
   "source": [
    "reviews_250_df.shape"
   ]
  },
  {
   "cell_type": "code",
   "execution_count": null,
   "metadata": {},
   "outputs": [],
   "source": [
    "# Converte as strings em listas\n",
    "reviews_250_df['REVIEWS'] = reviews_250_df['REVIEWS'].apply(ast.literal_eval)\n",
    "reviews_250_df['RATINGS'] = reviews_250_df['RATINGS'].apply(ast.literal_eval)\n",
    "\n",
    "# Explode as listas\n",
    "reviews_250_df_reviews_exploded = reviews_250_df.explode('REVIEWS')\n",
    "reviews_250_df_quantidade_estrelas_exploded = reviews_250_df.explode('RATINGS')\n",
    "\n",
    "# Resetando índices para garantir a correspondência entre as linhas\n",
    "reviews_250_df_reviews_exploded = reviews_250_df_reviews_exploded.reset_index(drop=True)\n",
    "reviews_250_df_quantidade_estrelas_exploded = reviews_250_df_quantidade_estrelas_exploded.reset_index(drop=True)\n",
    "\n",
    "# Removendo colunas duplicadas\n",
    "reviews_250_df_reviews_exploded.drop(['NAME', 'YEAR', 'DIRECTOR', 'RATINGS'], axis=1,inplace=True)\n",
    "reviews_250_df_quantidade_estrelas_exploded.drop('REVIEWS',axis=1, inplace=True) \n",
    "# Concatenar os dois dataframes\n",
    "reviews_250_df_final = pd.concat([reviews_250_df_quantidade_estrelas_exploded,reviews_250_df_reviews_exploded], axis=1)"
   ]
  },
  {
   "cell_type": "code",
   "execution_count": null,
   "metadata": {},
   "outputs": [],
   "source": [
    "reviews_250_df_final"
   ]
  },
  {
   "cell_type": "code",
   "execution_count": null,
   "metadata": {},
   "outputs": [],
   "source": [
    "reviews_250_df_final.dropna(subset=['REVIEWS'], inplace=True)"
   ]
  },
  {
   "cell_type": "code",
   "execution_count": null,
   "metadata": {},
   "outputs": [],
   "source": [
    "reviews_250_df_final.shape"
   ]
  },
  {
   "cell_type": "code",
   "execution_count": null,
   "metadata": {},
   "outputs": [],
   "source": [
    "reviews_250_df_final.to_csv('./dataset/letterboxd_movie_reviews.csv', index=False)"
   ]
  },
  {
   "cell_type": "code",
   "execution_count": null,
   "metadata": {},
   "outputs": [],
   "source": [
    "reviews_df = reviews_250_df_final.copy()"
   ]
  },
  {
   "cell_type": "code",
   "execution_count": null,
   "metadata": {},
   "outputs": [],
   "source": [
    "reviews_df.head()"
   ]
  },
  {
   "cell_type": "markdown",
   "metadata": {},
   "source": [
    "### **Tokenização do Texto**"
   ]
  },
  {
   "cell_type": "code",
   "execution_count": null,
   "metadata": {},
   "outputs": [],
   "source": [
    "import spacy\n",
    "! python -m spacy download en_core_web_sm"
   ]
  },
  {
   "cell_type": "code",
   "execution_count": null,
   "metadata": {},
   "outputs": [],
   "source": [
    "\n",
    "nlp_model = spacy.load('en_core_web_sm')\n",
    "\n",
    "def tokenize_text(text):\n",
    "    return [token.text.lower() for token in nlp_model(text) if token.text not in '\\n\\n \\n\\n\\n!\"-#$%&()--.*+,-/:;<=>?@[\\\\]^_`{|}~\\t\\n ']\n",
    "\n",
    "reviews_df['TOKENS'] = reviews_df['REVIEWS'].apply(tokenize_text)\n",
    "\n",
    "reviews_df"
   ]
  },
  {
   "cell_type": "code",
   "execution_count": null,
   "metadata": {},
   "outputs": [],
   "source": [
    "reviews_df\n",
    "# Criar nova coluna com qdt de estrelas (1 estrella um ponto, meia 0,5)\n",
    "# Coluna de score"
   ]
  },
  {
   "cell_type": "code",
   "execution_count": null,
   "metadata": {},
   "outputs": [],
   "source": [
    "\"\"\" model = KMeans(n_clusters=5, random_state=0, n_init=\"auto\")\n",
    "model.fit_transform(df['word_vector']) \"\"\""
   ]
  },
  {
   "cell_type": "markdown",
   "metadata": {},
   "source": [
    "#### Agrupar os dados com base em características semelhantes (K-means clustering?)\n",
    "\n",
    "Clusterizar o que se gosta ou nao num filme"
   ]
  },
  {
   "cell_type": "markdown",
   "metadata": {},
   "source": [
    "#### Rotular os dados de acordo com os grupos"
   ]
  },
  {
   "cell_type": "markdown",
   "metadata": {},
   "source": [
    "#### Vetorização do texto"
   ]
  },
  {
   "cell_type": "markdown",
   "metadata": {},
   "source": [
    "#### Treinamento do modelo (Naive-Bayes?)"
   ]
  },
  {
   "cell_type": "markdown",
   "metadata": {},
   "source": [
    "Um modelo já faz os passos acima?"
   ]
  },
  {
   "cell_type": "code",
   "execution_count": null,
   "metadata": {},
   "outputs": [],
   "source": [
    "# Aplicar o vader, pegar o sentimento e comparar com o rating\n",
    "\n",
    "# Regra de 3 pra ver se o review faz sentido com o rating"
   ]
  },
  {
   "cell_type": "code",
   "execution_count": null,
   "metadata": {},
   "outputs": [],
   "source": [
    "# primeiro transforma em score\n",
    "\n",
    "# o sentimento é um valor entre -1 e 1\n",
    "# de -1 a -0.6\n",
    "# nivel de descasamento"
   ]
  },
  {
   "cell_type": "code",
   "execution_count": null,
   "metadata": {},
   "outputs": [],
   "source": [
    "# pega o score que o modelo da e compara com as estrelinhas \n",
    "# pra saber a performance do modelo vader (classification report)\n",
    "\n",
    "# testar olhando histograma pra checar se a base ta desequilibrada"
   ]
  }
 ],
 "metadata": {
  "kernelspec": {
   "display_name": "Python 3",
   "language": "python",
   "name": "python3"
  },
  "language_info": {
   "codemirror_mode": {
    "name": "ipython",
    "version": 3
   },
   "file_extension": ".py",
   "mimetype": "text/x-python",
   "name": "python",
   "nbconvert_exporter": "python",
   "pygments_lexer": "ipython3",
   "version": "3.11.1"
  }
 },
 "nbformat": 4,
 "nbformat_minor": 2
}
